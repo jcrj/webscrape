{
  "nbformat": 4,
  "nbformat_minor": 0,
  "metadata": {
    "colab": {
      "provenance": []
    },
    "kernelspec": {
      "name": "python3",
      "display_name": "Python 3"
    },
    "language_info": {
      "name": "python"
    }
  },
  "cells": [
    {
      "cell_type": "markdown",
      "source": [
        "# Web-scraping for GPU prices\n",
        "\n",
        "Following @Tech With Tim guide on YouTube"
      ],
      "metadata": {
        "id": "ZcdlfoJ-1Naq"
      }
    },
    {
      "cell_type": "code",
      "source": [
        "from bs4 import BeautifulSoup\n",
        "import requests\n",
        "import re\n",
        "import pandas as pd"
      ],
      "metadata": {
        "id": "Ufpv3R1e_5E4"
      },
      "execution_count": null,
      "outputs": []
    },
    {
      "cell_type": "code",
      "source": [
        "gpu_input = input(\"What GPU are you looking for?\")\n",
        "\n",
        "url = f\"https://www.newegg.com/global/sg-en/p/pl?d={gpu_input}&N=4131\""
      ],
      "metadata": {
        "id": "CuPS7hPf1AIe"
      },
      "execution_count": null,
      "outputs": []
    },
    {
      "cell_type": "code",
      "source": [
        "page = requests.get(url).text\n",
        "doc = BeautifulSoup(page, \"html.parser\")"
      ],
      "metadata": {
        "id": "EIm2oqDs2nNT"
      },
      "execution_count": null,
      "outputs": []
    },
    {
      "cell_type": "code",
      "source": [
        "n_pages = doc.find(class_ = \"list-tool-pagination-text\").strong\n",
        "print(n_pages)"
      ],
      "metadata": {
        "colab": {
          "base_uri": "https://localhost:8080/"
        },
        "id": "2TVmtLxy2o2g",
        "outputId": "1b087bfd-0a14-4aa2-81f8-76102337aa68"
      },
      "execution_count": null,
      "outputs": [
        {
          "output_type": "stream",
          "name": "stdout",
          "text": [
            "<strong>1<!-- -->/<!-- -->64</strong>\n"
          ]
        }
      ]
    },
    {
      "cell_type": "markdown",
      "source": [
        "## Using RegEx\n",
        "\n",
        "For this cell, want to demonstrate the use of using `re` to extract out digits/ `\\d`.  \n",
        "\n",
        "`r\\d`: Matches a single digit (0-9)  \n",
        "`r\\d+`: Matches one or more digits in sequence.  \n",
        "`r\\d*`: Matches zero or more digits in sequence. (can match empty string)"
      ],
      "metadata": {
        "id": "S6-hC_Pd5BOh"
      }
    },
    {
      "cell_type": "code",
      "source": [
        "# For testing purposes, testing if my string is 1/15 will the 15 be extracted out properly or only the first instance of a digit\n",
        "pattern = r'\\d+'\n",
        "test_str = \"<strong>1<!-- -->/<!-- -->15</strong>\"\n",
        "matches = re.findall(pattern, test_str)\n",
        "matches"
      ],
      "metadata": {
        "colab": {
          "base_uri": "https://localhost:8080/"
        },
        "id": "sbLo_K_v4e-_",
        "outputId": "af5a55b7-5751-4a09-a2f6-4129c42d5a82"
      },
      "execution_count": null,
      "outputs": [
        {
          "output_type": "execute_result",
          "data": {
            "text/plain": [
              "['1', '15']"
            ]
          },
          "metadata": {},
          "execution_count": 33
        }
      ]
    },
    {
      "cell_type": "code",
      "source": [
        "pattern = r'\\d+'\n",
        "matches = re.findall(pattern, str(n_pages))\n",
        "matches"
      ],
      "metadata": {
        "colab": {
          "base_uri": "https://localhost:8080/"
        },
        "id": "AgkhuHH54Wls",
        "outputId": "e0c7b266-c5cf-41e6-cee9-ccc6b059c842"
      },
      "execution_count": null,
      "outputs": [
        {
          "output_type": "execute_result",
          "data": {
            "text/plain": [
              "['1', '64']"
            ]
          },
          "metadata": {},
          "execution_count": 39
        }
      ]
    },
    {
      "cell_type": "code",
      "source": [
        "# Now we have successfully extracted the page numbers, we can iterate through them and grab all the details we need\n",
        "# Limited to 2 pages for now\n",
        "\n",
        "last_page = 2\n",
        "for page in range(1, last_page + 1):\n",
        "  url = f\"https://www.newegg.com/global/sg-en/p/pl?d={gpu_input}&N=4131&page={page}\"\n",
        "  page = requests.get(url).text\n",
        "  doc = BeautifulSoup(page, \"html.parser\")\n",
        "  div = doc.find(class_ = \"item-cells-wrap border-cells short-video-box items-grid-view four-cells expulsion-one-cell\")\n",
        "\n",
        "  items = div.find_all(string = re.compile(f\"(?=.*{gpu_input})(?=.*Card)\"))\n",
        "  for item in items:\n",
        "    parent = item.parent\n",
        "    if parent.name != \"a\":\n",
        "      continue\n",
        "\n",
        "    link = parent['href']\n",
        "    next_parent = item.find_parent(class_ = \"item-container\")\n",
        "    price = next_parent.find(class_ = \"price-current\").strong.string\n",
        "\n",
        "    print(price)"
      ],
      "metadata": {
        "colab": {
          "base_uri": "https://localhost:8080/"
        },
        "id": "GQExpBJ-4BDi",
        "outputId": "107e56fb-f8f9-4403-8639-cd33ab215841"
      },
      "execution_count": null,
      "outputs": [
        {
          "output_type": "stream",
          "name": "stdout",
          "text": [
            "2,917\n",
            "3,192\n",
            "2,763\n",
            "3,023\n",
            "2,944\n",
            "3,660\n",
            "2,849\n",
            "3,083\n",
            "3,160\n",
            "2,923\n",
            "3,808\n",
            "2,893\n",
            "2,801\n",
            "3,122\n",
            "5,632\n",
            "5,246\n",
            "5,556\n"
          ]
        }
      ]
    },
    {
      "cell_type": "code",
      "source": [
        "last_page = int(matches[-1])\n",
        "items_found = {}\n",
        "\n",
        "for page in range(1, last_page + 1):\n",
        "  url = f\"https://www.newegg.com/global/sg-en/p/pl?d={gpu_input}&N=4131&page={page}\"\n",
        "  page = requests.get(url).text\n",
        "  doc = BeautifulSoup(page, \"html.parser\")\n",
        "  div = doc.find(class_ = \"item-cells-wrap border-cells short-video-box items-grid-view four-cells expulsion-one-cell\")\n",
        "\n",
        "  items = div.find_all(string = re.compile(f\"(?=.*{gpu_input})(?=.*Card)\"))\n",
        "  for item in items:\n",
        "    parent = item.parent\n",
        "    if parent.name != \"a\":\n",
        "      continue\n",
        "\n",
        "    link = parent['href']\n",
        "    next_parent = item.find_parent(class_ = \"item-container\")\n",
        "    price = next_parent.find(class_ = \"price-current\").strong.string\n",
        "\n",
        "    items_found[item] = {\"price\": int(price.replace(\",\", \"\")), \"link\": link}"
      ],
      "metadata": {
        "id": "cwR-DHuB6BYM"
      },
      "execution_count": null,
      "outputs": []
    },
    {
      "cell_type": "code",
      "source": [
        "sorted(items_found.items(), key = lambda x: x[1]['price'])"
      ],
      "metadata": {
        "colab": {
          "base_uri": "https://localhost:8080/"
        },
        "id": "hIuCtopc_G8Z",
        "outputId": "c0444b0a-2062-49f0-ce90-dc458ccce490"
      },
      "execution_count": null,
      "outputs": [
        {
          "output_type": "execute_result",
          "data": {
            "text/plain": [
              "[('GIGABYTE Gaming GeForce RTX 4090 24GB GDDR6X PCI Express 4.0 x16 ATX Video Card GV-N4090GAMING OC-24GD',\n",
              "  {'price': 2763,\n",
              "   'link': 'https://www.newegg.com/global/sg-en/gigabyte-geforce-rtx-4090-gv-n4090gaming-oc-24gd/p/N82E16814932550'}),\n",
              " ('ASUS TUF Gaming GeForce RTX 4090 OG OC Edition Gaming Graphics Card (PCIe 4.0, 24GB GDDR6X, DLSS 3, HDMI 2.1, DisplayPort 1.4a) TUF-RTX4090-O24G-OG-GAMING',\n",
              "  {'price': 2801,\n",
              "   'link': 'https://www.newegg.com/global/sg-en/asus-geforce-rtx-4090-tuf-rtx4090-o24g-og-gaming/p/N82E16814126658'}),\n",
              " ('GIGABYTE AERO GeForce RTX 4090 24GB GDDR6X PCI Express 4.0 x16 ATX Video Card GV-N4090AERO OC-24GD',\n",
              "  {'price': 2849,\n",
              "   'link': 'https://www.newegg.com/global/sg-en/gigabyte-geforce-rtx-4090-gv-n4090aero-oc-24gd/p/N82E16814932601'}),\n",
              " ('MSI Gaming GeForce RTX 4090 24GB GDDR6X PCI Express 4.0 Video Card RTX 4090 GAMING TRIO 24G',\n",
              "  {'price': 2893,\n",
              "   'link': 'https://www.newegg.com/global/sg-en/msi-geforce-rtx-4090-rtx-4090-gaming-trio-24g/p/N82E16814137762'}),\n",
              " ('ASUS TUF Gaming GeForce RTX 4090 OC Edition Gaming Graphics Card (PCIe 4.0, 24GB GDDR6X, HDMI 2.1a, DisplayPort 1.4a) TUF-RTX4090-O24G-GAMING',\n",
              "  {'price': 2917,\n",
              "   'link': 'https://www.newegg.com/global/sg-en/asus-geforce-rtx-4090-tuf-rtx4090-o24g-gaming/p/N82E16814126594'}),\n",
              " ('MSI Gaming GeForce RTX 4090 24GB GDDR6X PCI Express 4.0 x16 ATX Video Card RTX 4090 GAMING X SLIM 24G',\n",
              "  {'price': 2923,\n",
              "   'link': 'https://www.newegg.com/global/sg-en/msi-geforce-rtx-4090-rtx-4090-gaming-x-slim-24g/p/N82E16814137834'}),\n",
              " ('MSI Gaming GeForce RTX 4090 24GB GDDR6X PCI Express 4.0 Video Card RTX 4090 GAMING X TRIO 24G',\n",
              "  {'price': 2944,\n",
              "   'link': 'https://www.newegg.com/global/sg-en/msi-geforce-rtx-4090-rtx-4090-gaming-x-trio-24g/p/N82E16814137761'}),\n",
              " ('MSI Suprim GeForce RTX 4090 24GB GDDR6X PCI Express 4.0 Video Card RTX 4090 SUPRIM LIQUID X 24G',\n",
              "  {'price': 3023,\n",
              "   'link': 'https://www.newegg.com/global/sg-en/msi-geforce-rtx-4090-rtx-4090-suprim-liquid-x-24g/p/N82E16814137759'}),\n",
              " ('GIGABYTE AORUS GeForce RTX 4090 24GB GDDR6X PCI Express 4.0 x16 ATX Video Card GV-N4090AORUS M-24GD',\n",
              "  {'price': 3083,\n",
              "   'link': 'https://www.newegg.com/global/sg-en/gigabyte-geforce-rtx-4090-gv-n4090aorus-m-24gd/p/N82E16814932555'}),\n",
              " ('GIGABYTE AORUS GeForce RTX 4090 24GB GDDR6X PCI Express 4.0 ATX Video Card GV-N4090AORUSX W-24GD',\n",
              "  {'price': 3160,\n",
              "   'link': 'https://www.newegg.com/global/sg-en/gigabyte-geforce-rtx-4090-gv-n4090aorusx-w-24gd/p/N82E16814932556'}),\n",
              " ('ASUS ROG Strix GeForce RTX 4090 OC Edition Gaming Graphics Card (PCIe 4.0, 24GB GDDR6X, HDMI 2.1a, DisplayPort 1.4a) ROG-STRIX-RTX4090-O24G-GAMING',\n",
              "  {'price': 3192,\n",
              "   'link': 'https://www.newegg.com/global/sg-en/asus-geforce-rtx-4090-rog-strix-rtx4090-o24g-gaming/p/N82E16814126593'}),\n",
              " ('ASUS ROG Strix GeForce RTX 4090 White OC Edition Gaming Graphics Card (PCIe 4.0, 24GB GDDR6X, HDMI 2.1a, DisplayPort 1.4a) ROG-STRIX-RTX4090-O24G-WHITE',\n",
              "  {'price': 3660,\n",
              "   'link': 'https://www.newegg.com/global/sg-en/asus-geforce-rtx-4090-rog-strix-rtx4090-o24g-white/p/N82E16814126616'}),\n",
              " ('ASUS ROG Strix GeForce RTX 4090 Gaming Graphics Card (PCIe 4.0, 24GB GDDR6X, HDMI 2.1a, DisplayPort 1.4a) ROG-STRIX-RTX4090-24G-GAMING',\n",
              "  {'price': 3808,\n",
              "   'link': 'https://www.newegg.com/global/sg-en/asus-geforce-rtx-4090-rog-strix-rtx4090-24g-gaming/p/N82E16814126600'}),\n",
              " ('ASUS TUF Gaming GeForce RTX 4090 24GB OC Edition Gaming Graphics Card (DLSS 3, PCIe 4.0, 24GB GDDR6X, HDMI 2.1a, DisplayPort 1.4a, TUF-RTX4090-O24G-GAMING)',\n",
              "  {'price': 5246,\n",
              "   'link': 'https://www.newegg.com/global/sg-en/p/1FT-000Y-008J9'}),\n",
              " ('MSI NVIDIA GeForce RTX 4090 Suprim X 24GB GDDR6X Graphics Card',\n",
              "  {'price': 5328,\n",
              "   'link': 'https://www.newegg.com/global/sg-en/p/1FT-0009-00AP8'}),\n",
              " ('ASUS ROG Strix GeForce RTX 4090 GDDR6X ROG Triple Fan Graphics Card - 24GB',\n",
              "  {'price': 5556,\n",
              "   'link': 'https://www.newegg.com/global/sg-en/p/1FT-000Y-008Z1'}),\n",
              " ('ASUS ROG Strix GeForce RTX 4090 White Edition Gaming Graphics Card (PCIe 4.0, 24GB GDDR6X, HDMI 2.1a, DisplayPort 1.4a) ROG-STRIX-RTX4090-24G-WHITE',\n",
              "  {'price': 5632,\n",
              "   'link': 'https://www.newegg.com/global/sg-en/p/1FT-000Y-008W7'})]"
            ]
          },
          "metadata": {},
          "execution_count": 57
        }
      ]
    },
    {
      "cell_type": "code",
      "source": [
        "pd.DataFrame.from_dict(items_found).T.sort_values(by = ['price'])"
      ],
      "metadata": {
        "colab": {
          "base_uri": "https://localhost:8080/",
          "height": 583
        },
        "id": "0CygVENS_Zo5",
        "outputId": "1db209b0-e3e9-4f46-f123-0388a8d1dc00"
      },
      "execution_count": null,
      "outputs": [
        {
          "output_type": "execute_result",
          "data": {
            "text/plain": [
              "                                                   price  \\\n",
              "GIGABYTE Gaming GeForce RTX 4090 24GB GDDR6X PC...  2763   \n",
              "ASUS TUF Gaming GeForce RTX 4090 OG OC Edition ...  2801   \n",
              "GIGABYTE AERO GeForce RTX 4090 24GB GDDR6X PCI ...  2849   \n",
              "MSI Gaming GeForce RTX 4090 24GB GDDR6X PCI Exp...  2893   \n",
              "ASUS TUF Gaming GeForce RTX 4090 OC Edition Gam...  2917   \n",
              "MSI Gaming GeForce RTX 4090 24GB GDDR6X PCI Exp...  2923   \n",
              "MSI Gaming GeForce RTX 4090 24GB GDDR6X PCI Exp...  2944   \n",
              "MSI Suprim GeForce RTX 4090 24GB GDDR6X PCI Exp...  3023   \n",
              "GIGABYTE AORUS GeForce RTX 4090 24GB GDDR6X PCI...  3083   \n",
              "GIGABYTE AORUS GeForce RTX 4090 24GB GDDR6X PCI...  3160   \n",
              "ASUS ROG Strix GeForce RTX 4090 OC Edition Gami...  3192   \n",
              "ASUS ROG Strix GeForce RTX 4090 White OC Editio...  3660   \n",
              "ASUS ROG Strix GeForce RTX 4090 Gaming Graphics...  3808   \n",
              "ASUS TUF Gaming GeForce RTX 4090 24GB OC Editio...  5246   \n",
              "MSI NVIDIA GeForce RTX 4090 Suprim X 24GB GDDR6...  5328   \n",
              "ASUS ROG Strix GeForce RTX 4090 GDDR6X ROG Trip...  5556   \n",
              "ASUS ROG Strix GeForce RTX 4090 White Edition G...  5632   \n",
              "\n",
              "                                                                                                 link  \n",
              "GIGABYTE Gaming GeForce RTX 4090 24GB GDDR6X PC...  https://www.newegg.com/global/sg-en/gigabyte-g...  \n",
              "ASUS TUF Gaming GeForce RTX 4090 OG OC Edition ...  https://www.newegg.com/global/sg-en/asus-gefor...  \n",
              "GIGABYTE AERO GeForce RTX 4090 24GB GDDR6X PCI ...  https://www.newegg.com/global/sg-en/gigabyte-g...  \n",
              "MSI Gaming GeForce RTX 4090 24GB GDDR6X PCI Exp...  https://www.newegg.com/global/sg-en/msi-geforc...  \n",
              "ASUS TUF Gaming GeForce RTX 4090 OC Edition Gam...  https://www.newegg.com/global/sg-en/asus-gefor...  \n",
              "MSI Gaming GeForce RTX 4090 24GB GDDR6X PCI Exp...  https://www.newegg.com/global/sg-en/msi-geforc...  \n",
              "MSI Gaming GeForce RTX 4090 24GB GDDR6X PCI Exp...  https://www.newegg.com/global/sg-en/msi-geforc...  \n",
              "MSI Suprim GeForce RTX 4090 24GB GDDR6X PCI Exp...  https://www.newegg.com/global/sg-en/msi-geforc...  \n",
              "GIGABYTE AORUS GeForce RTX 4090 24GB GDDR6X PCI...  https://www.newegg.com/global/sg-en/gigabyte-g...  \n",
              "GIGABYTE AORUS GeForce RTX 4090 24GB GDDR6X PCI...  https://www.newegg.com/global/sg-en/gigabyte-g...  \n",
              "ASUS ROG Strix GeForce RTX 4090 OC Edition Gami...  https://www.newegg.com/global/sg-en/asus-gefor...  \n",
              "ASUS ROG Strix GeForce RTX 4090 White OC Editio...  https://www.newegg.com/global/sg-en/asus-gefor...  \n",
              "ASUS ROG Strix GeForce RTX 4090 Gaming Graphics...  https://www.newegg.com/global/sg-en/asus-gefor...  \n",
              "ASUS TUF Gaming GeForce RTX 4090 24GB OC Editio...  https://www.newegg.com/global/sg-en/p/1FT-000Y...  \n",
              "MSI NVIDIA GeForce RTX 4090 Suprim X 24GB GDDR6...  https://www.newegg.com/global/sg-en/p/1FT-0009...  \n",
              "ASUS ROG Strix GeForce RTX 4090 GDDR6X ROG Trip...  https://www.newegg.com/global/sg-en/p/1FT-000Y...  \n",
              "ASUS ROG Strix GeForce RTX 4090 White Edition G...  https://www.newegg.com/global/sg-en/p/1FT-000Y...  "
            ],
            "text/html": [
              "\n",
              "  <div id=\"df-9d04f88b-2a4b-48ab-8695-007fabaae872\" class=\"colab-df-container\">\n",
              "    <div>\n",
              "<style scoped>\n",
              "    .dataframe tbody tr th:only-of-type {\n",
              "        vertical-align: middle;\n",
              "    }\n",
              "\n",
              "    .dataframe tbody tr th {\n",
              "        vertical-align: top;\n",
              "    }\n",
              "\n",
              "    .dataframe thead th {\n",
              "        text-align: right;\n",
              "    }\n",
              "</style>\n",
              "<table border=\"1\" class=\"dataframe\">\n",
              "  <thead>\n",
              "    <tr style=\"text-align: right;\">\n",
              "      <th></th>\n",
              "      <th>price</th>\n",
              "      <th>link</th>\n",
              "    </tr>\n",
              "  </thead>\n",
              "  <tbody>\n",
              "    <tr>\n",
              "      <th>GIGABYTE Gaming GeForce RTX 4090 24GB GDDR6X PCI Express 4.0 x16 ATX Video Card GV-N4090GAMING OC-24GD</th>\n",
              "      <td>2763</td>\n",
              "      <td>https://www.newegg.com/global/sg-en/gigabyte-g...</td>\n",
              "    </tr>\n",
              "    <tr>\n",
              "      <th>ASUS TUF Gaming GeForce RTX 4090 OG OC Edition Gaming Graphics Card (PCIe 4.0, 24GB GDDR6X, DLSS 3, HDMI 2.1, DisplayPort 1.4a) TUF-RTX4090-O24G-OG-GAMING</th>\n",
              "      <td>2801</td>\n",
              "      <td>https://www.newegg.com/global/sg-en/asus-gefor...</td>\n",
              "    </tr>\n",
              "    <tr>\n",
              "      <th>GIGABYTE AERO GeForce RTX 4090 24GB GDDR6X PCI Express 4.0 x16 ATX Video Card GV-N4090AERO OC-24GD</th>\n",
              "      <td>2849</td>\n",
              "      <td>https://www.newegg.com/global/sg-en/gigabyte-g...</td>\n",
              "    </tr>\n",
              "    <tr>\n",
              "      <th>MSI Gaming GeForce RTX 4090 24GB GDDR6X PCI Express 4.0 Video Card RTX 4090 GAMING TRIO 24G</th>\n",
              "      <td>2893</td>\n",
              "      <td>https://www.newegg.com/global/sg-en/msi-geforc...</td>\n",
              "    </tr>\n",
              "    <tr>\n",
              "      <th>ASUS TUF Gaming GeForce RTX 4090 OC Edition Gaming Graphics Card (PCIe 4.0, 24GB GDDR6X, HDMI 2.1a, DisplayPort 1.4a) TUF-RTX4090-O24G-GAMING</th>\n",
              "      <td>2917</td>\n",
              "      <td>https://www.newegg.com/global/sg-en/asus-gefor...</td>\n",
              "    </tr>\n",
              "    <tr>\n",
              "      <th>MSI Gaming GeForce RTX 4090 24GB GDDR6X PCI Express 4.0 x16 ATX Video Card RTX 4090 GAMING X SLIM 24G</th>\n",
              "      <td>2923</td>\n",
              "      <td>https://www.newegg.com/global/sg-en/msi-geforc...</td>\n",
              "    </tr>\n",
              "    <tr>\n",
              "      <th>MSI Gaming GeForce RTX 4090 24GB GDDR6X PCI Express 4.0 Video Card RTX 4090 GAMING X TRIO 24G</th>\n",
              "      <td>2944</td>\n",
              "      <td>https://www.newegg.com/global/sg-en/msi-geforc...</td>\n",
              "    </tr>\n",
              "    <tr>\n",
              "      <th>MSI Suprim GeForce RTX 4090 24GB GDDR6X PCI Express 4.0 Video Card RTX 4090 SUPRIM LIQUID X 24G</th>\n",
              "      <td>3023</td>\n",
              "      <td>https://www.newegg.com/global/sg-en/msi-geforc...</td>\n",
              "    </tr>\n",
              "    <tr>\n",
              "      <th>GIGABYTE AORUS GeForce RTX 4090 24GB GDDR6X PCI Express 4.0 x16 ATX Video Card GV-N4090AORUS M-24GD</th>\n",
              "      <td>3083</td>\n",
              "      <td>https://www.newegg.com/global/sg-en/gigabyte-g...</td>\n",
              "    </tr>\n",
              "    <tr>\n",
              "      <th>GIGABYTE AORUS GeForce RTX 4090 24GB GDDR6X PCI Express 4.0 ATX Video Card GV-N4090AORUSX W-24GD</th>\n",
              "      <td>3160</td>\n",
              "      <td>https://www.newegg.com/global/sg-en/gigabyte-g...</td>\n",
              "    </tr>\n",
              "    <tr>\n",
              "      <th>ASUS ROG Strix GeForce RTX 4090 OC Edition Gaming Graphics Card (PCIe 4.0, 24GB GDDR6X, HDMI 2.1a, DisplayPort 1.4a) ROG-STRIX-RTX4090-O24G-GAMING</th>\n",
              "      <td>3192</td>\n",
              "      <td>https://www.newegg.com/global/sg-en/asus-gefor...</td>\n",
              "    </tr>\n",
              "    <tr>\n",
              "      <th>ASUS ROG Strix GeForce RTX 4090 White OC Edition Gaming Graphics Card (PCIe 4.0, 24GB GDDR6X, HDMI 2.1a, DisplayPort 1.4a) ROG-STRIX-RTX4090-O24G-WHITE</th>\n",
              "      <td>3660</td>\n",
              "      <td>https://www.newegg.com/global/sg-en/asus-gefor...</td>\n",
              "    </tr>\n",
              "    <tr>\n",
              "      <th>ASUS ROG Strix GeForce RTX 4090 Gaming Graphics Card (PCIe 4.0, 24GB GDDR6X, HDMI 2.1a, DisplayPort 1.4a) ROG-STRIX-RTX4090-24G-GAMING</th>\n",
              "      <td>3808</td>\n",
              "      <td>https://www.newegg.com/global/sg-en/asus-gefor...</td>\n",
              "    </tr>\n",
              "    <tr>\n",
              "      <th>ASUS TUF Gaming GeForce RTX 4090 24GB OC Edition Gaming Graphics Card (DLSS 3, PCIe 4.0, 24GB GDDR6X, HDMI 2.1a, DisplayPort 1.4a, TUF-RTX4090-O24G-GAMING)</th>\n",
              "      <td>5246</td>\n",
              "      <td>https://www.newegg.com/global/sg-en/p/1FT-000Y...</td>\n",
              "    </tr>\n",
              "    <tr>\n",
              "      <th>MSI NVIDIA GeForce RTX 4090 Suprim X 24GB GDDR6X Graphics Card</th>\n",
              "      <td>5328</td>\n",
              "      <td>https://www.newegg.com/global/sg-en/p/1FT-0009...</td>\n",
              "    </tr>\n",
              "    <tr>\n",
              "      <th>ASUS ROG Strix GeForce RTX 4090 GDDR6X ROG Triple Fan Graphics Card - 24GB</th>\n",
              "      <td>5556</td>\n",
              "      <td>https://www.newegg.com/global/sg-en/p/1FT-000Y...</td>\n",
              "    </tr>\n",
              "    <tr>\n",
              "      <th>ASUS ROG Strix GeForce RTX 4090 White Edition Gaming Graphics Card (PCIe 4.0, 24GB GDDR6X, HDMI 2.1a, DisplayPort 1.4a) ROG-STRIX-RTX4090-24G-WHITE</th>\n",
              "      <td>5632</td>\n",
              "      <td>https://www.newegg.com/global/sg-en/p/1FT-000Y...</td>\n",
              "    </tr>\n",
              "  </tbody>\n",
              "</table>\n",
              "</div>\n",
              "    <div class=\"colab-df-buttons\">\n",
              "\n",
              "  <div class=\"colab-df-container\">\n",
              "    <button class=\"colab-df-convert\" onclick=\"convertToInteractive('df-9d04f88b-2a4b-48ab-8695-007fabaae872')\"\n",
              "            title=\"Convert this dataframe to an interactive table.\"\n",
              "            style=\"display:none;\">\n",
              "\n",
              "  <svg xmlns=\"http://www.w3.org/2000/svg\" height=\"24px\" viewBox=\"0 -960 960 960\">\n",
              "    <path d=\"M120-120v-720h720v720H120Zm60-500h600v-160H180v160Zm220 220h160v-160H400v160Zm0 220h160v-160H400v160ZM180-400h160v-160H180v160Zm440 0h160v-160H620v160ZM180-180h160v-160H180v160Zm440 0h160v-160H620v160Z\"/>\n",
              "  </svg>\n",
              "    </button>\n",
              "\n",
              "  <style>\n",
              "    .colab-df-container {\n",
              "      display:flex;\n",
              "      gap: 12px;\n",
              "    }\n",
              "\n",
              "    .colab-df-convert {\n",
              "      background-color: #E8F0FE;\n",
              "      border: none;\n",
              "      border-radius: 50%;\n",
              "      cursor: pointer;\n",
              "      display: none;\n",
              "      fill: #1967D2;\n",
              "      height: 32px;\n",
              "      padding: 0 0 0 0;\n",
              "      width: 32px;\n",
              "    }\n",
              "\n",
              "    .colab-df-convert:hover {\n",
              "      background-color: #E2EBFA;\n",
              "      box-shadow: 0px 1px 2px rgba(60, 64, 67, 0.3), 0px 1px 3px 1px rgba(60, 64, 67, 0.15);\n",
              "      fill: #174EA6;\n",
              "    }\n",
              "\n",
              "    .colab-df-buttons div {\n",
              "      margin-bottom: 4px;\n",
              "    }\n",
              "\n",
              "    [theme=dark] .colab-df-convert {\n",
              "      background-color: #3B4455;\n",
              "      fill: #D2E3FC;\n",
              "    }\n",
              "\n",
              "    [theme=dark] .colab-df-convert:hover {\n",
              "      background-color: #434B5C;\n",
              "      box-shadow: 0px 1px 3px 1px rgba(0, 0, 0, 0.15);\n",
              "      filter: drop-shadow(0px 1px 2px rgba(0, 0, 0, 0.3));\n",
              "      fill: #FFFFFF;\n",
              "    }\n",
              "  </style>\n",
              "\n",
              "    <script>\n",
              "      const buttonEl =\n",
              "        document.querySelector('#df-9d04f88b-2a4b-48ab-8695-007fabaae872 button.colab-df-convert');\n",
              "      buttonEl.style.display =\n",
              "        google.colab.kernel.accessAllowed ? 'block' : 'none';\n",
              "\n",
              "      async function convertToInteractive(key) {\n",
              "        const element = document.querySelector('#df-9d04f88b-2a4b-48ab-8695-007fabaae872');\n",
              "        const dataTable =\n",
              "          await google.colab.kernel.invokeFunction('convertToInteractive',\n",
              "                                                    [key], {});\n",
              "        if (!dataTable) return;\n",
              "\n",
              "        const docLinkHtml = 'Like what you see? Visit the ' +\n",
              "          '<a target=\"_blank\" href=https://colab.research.google.com/notebooks/data_table.ipynb>data table notebook</a>'\n",
              "          + ' to learn more about interactive tables.';\n",
              "        element.innerHTML = '';\n",
              "        dataTable['output_type'] = 'display_data';\n",
              "        await google.colab.output.renderOutput(dataTable, element);\n",
              "        const docLink = document.createElement('div');\n",
              "        docLink.innerHTML = docLinkHtml;\n",
              "        element.appendChild(docLink);\n",
              "      }\n",
              "    </script>\n",
              "  </div>\n",
              "\n",
              "\n",
              "<div id=\"df-24fdff60-9f71-48d2-8d99-6d32b55ef781\">\n",
              "  <button class=\"colab-df-quickchart\" onclick=\"quickchart('df-24fdff60-9f71-48d2-8d99-6d32b55ef781')\"\n",
              "            title=\"Suggest charts\"\n",
              "            style=\"display:none;\">\n",
              "\n",
              "<svg xmlns=\"http://www.w3.org/2000/svg\" height=\"24px\"viewBox=\"0 0 24 24\"\n",
              "     width=\"24px\">\n",
              "    <g>\n",
              "        <path d=\"M19 3H5c-1.1 0-2 .9-2 2v14c0 1.1.9 2 2 2h14c1.1 0 2-.9 2-2V5c0-1.1-.9-2-2-2zM9 17H7v-7h2v7zm4 0h-2V7h2v10zm4 0h-2v-4h2v4z\"/>\n",
              "    </g>\n",
              "</svg>\n",
              "  </button>\n",
              "\n",
              "<style>\n",
              "  .colab-df-quickchart {\n",
              "      --bg-color: #E8F0FE;\n",
              "      --fill-color: #1967D2;\n",
              "      --hover-bg-color: #E2EBFA;\n",
              "      --hover-fill-color: #174EA6;\n",
              "      --disabled-fill-color: #AAA;\n",
              "      --disabled-bg-color: #DDD;\n",
              "  }\n",
              "\n",
              "  [theme=dark] .colab-df-quickchart {\n",
              "      --bg-color: #3B4455;\n",
              "      --fill-color: #D2E3FC;\n",
              "      --hover-bg-color: #434B5C;\n",
              "      --hover-fill-color: #FFFFFF;\n",
              "      --disabled-bg-color: #3B4455;\n",
              "      --disabled-fill-color: #666;\n",
              "  }\n",
              "\n",
              "  .colab-df-quickchart {\n",
              "    background-color: var(--bg-color);\n",
              "    border: none;\n",
              "    border-radius: 50%;\n",
              "    cursor: pointer;\n",
              "    display: none;\n",
              "    fill: var(--fill-color);\n",
              "    height: 32px;\n",
              "    padding: 0;\n",
              "    width: 32px;\n",
              "  }\n",
              "\n",
              "  .colab-df-quickchart:hover {\n",
              "    background-color: var(--hover-bg-color);\n",
              "    box-shadow: 0 1px 2px rgba(60, 64, 67, 0.3), 0 1px 3px 1px rgba(60, 64, 67, 0.15);\n",
              "    fill: var(--button-hover-fill-color);\n",
              "  }\n",
              "\n",
              "  .colab-df-quickchart-complete:disabled,\n",
              "  .colab-df-quickchart-complete:disabled:hover {\n",
              "    background-color: var(--disabled-bg-color);\n",
              "    fill: var(--disabled-fill-color);\n",
              "    box-shadow: none;\n",
              "  }\n",
              "\n",
              "  .colab-df-spinner {\n",
              "    border: 2px solid var(--fill-color);\n",
              "    border-color: transparent;\n",
              "    border-bottom-color: var(--fill-color);\n",
              "    animation:\n",
              "      spin 1s steps(1) infinite;\n",
              "  }\n",
              "\n",
              "  @keyframes spin {\n",
              "    0% {\n",
              "      border-color: transparent;\n",
              "      border-bottom-color: var(--fill-color);\n",
              "      border-left-color: var(--fill-color);\n",
              "    }\n",
              "    20% {\n",
              "      border-color: transparent;\n",
              "      border-left-color: var(--fill-color);\n",
              "      border-top-color: var(--fill-color);\n",
              "    }\n",
              "    30% {\n",
              "      border-color: transparent;\n",
              "      border-left-color: var(--fill-color);\n",
              "      border-top-color: var(--fill-color);\n",
              "      border-right-color: var(--fill-color);\n",
              "    }\n",
              "    40% {\n",
              "      border-color: transparent;\n",
              "      border-right-color: var(--fill-color);\n",
              "      border-top-color: var(--fill-color);\n",
              "    }\n",
              "    60% {\n",
              "      border-color: transparent;\n",
              "      border-right-color: var(--fill-color);\n",
              "    }\n",
              "    80% {\n",
              "      border-color: transparent;\n",
              "      border-right-color: var(--fill-color);\n",
              "      border-bottom-color: var(--fill-color);\n",
              "    }\n",
              "    90% {\n",
              "      border-color: transparent;\n",
              "      border-bottom-color: var(--fill-color);\n",
              "    }\n",
              "  }\n",
              "</style>\n",
              "\n",
              "  <script>\n",
              "    async function quickchart(key) {\n",
              "      const quickchartButtonEl =\n",
              "        document.querySelector('#' + key + ' button');\n",
              "      quickchartButtonEl.disabled = true;  // To prevent multiple clicks.\n",
              "      quickchartButtonEl.classList.add('colab-df-spinner');\n",
              "      try {\n",
              "        const charts = await google.colab.kernel.invokeFunction(\n",
              "            'suggestCharts', [key], {});\n",
              "      } catch (error) {\n",
              "        console.error('Error during call to suggestCharts:', error);\n",
              "      }\n",
              "      quickchartButtonEl.classList.remove('colab-df-spinner');\n",
              "      quickchartButtonEl.classList.add('colab-df-quickchart-complete');\n",
              "    }\n",
              "    (() => {\n",
              "      let quickchartButtonEl =\n",
              "        document.querySelector('#df-24fdff60-9f71-48d2-8d99-6d32b55ef781 button');\n",
              "      quickchartButtonEl.style.display =\n",
              "        google.colab.kernel.accessAllowed ? 'block' : 'none';\n",
              "    })();\n",
              "  </script>\n",
              "</div>\n",
              "\n",
              "    </div>\n",
              "  </div>\n"
            ],
            "application/vnd.google.colaboratory.intrinsic+json": {
              "type": "dataframe",
              "summary": "{\n  \"name\": \"pd\",\n  \"rows\": 17,\n  \"fields\": [\n    {\n      \"column\": \"price\",\n      \"properties\": {\n        \"dtype\": \"date\",\n        \"min\": 2763,\n        \"max\": 5632,\n        \"num_unique_values\": 17,\n        \"samples\": [\n          2763,\n          2801,\n          2923\n        ],\n        \"semantic_type\": \"\",\n        \"description\": \"\"\n      }\n    },\n    {\n      \"column\": \"link\",\n      \"properties\": {\n        \"dtype\": \"string\",\n        \"num_unique_values\": 17,\n        \"samples\": [\n          \"https://www.newegg.com/global/sg-en/gigabyte-geforce-rtx-4090-gv-n4090gaming-oc-24gd/p/N82E16814932550\",\n          \"https://www.newegg.com/global/sg-en/asus-geforce-rtx-4090-tuf-rtx4090-o24g-og-gaming/p/N82E16814126658\",\n          \"https://www.newegg.com/global/sg-en/msi-geforce-rtx-4090-rtx-4090-gaming-x-slim-24g/p/N82E16814137834\"\n        ],\n        \"semantic_type\": \"\",\n        \"description\": \"\"\n      }\n    }\n  ]\n}"
            }
          },
          "metadata": {},
          "execution_count": 58
        }
      ]
    },
    {
      "cell_type": "code",
      "source": [],
      "metadata": {
        "id": "Crfb1Y3uAAA7"
      },
      "execution_count": null,
      "outputs": []
    }
  ]
}